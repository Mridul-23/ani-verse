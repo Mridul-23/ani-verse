{
 "cells": [
  {
   "cell_type": "code",
   "execution_count": 1,
   "metadata": {},
   "outputs": [],
   "source": [
    "import pandas as pd"
   ]
  },
  {
   "cell_type": "code",
   "execution_count": 2,
   "metadata": {},
   "outputs": [],
   "source": [
    "df = pd.read_json('ani_data_full.json')"
   ]
  },
  {
   "cell_type": "code",
   "execution_count": 3,
   "metadata": {},
   "outputs": [
    {
     "name": "stdout",
     "output_type": "stream",
     "text": [
      "<class 'pandas.core.frame.DataFrame'>\n",
      "RangeIndex: 6894 entries, 0 to 6893\n",
      "Data columns (total 40 columns):\n",
      " #   Column           Non-Null Count  Dtype  \n",
      "---  ------           --------------  -----  \n",
      " 0   name_english     6894 non-null   object \n",
      " 1   name             6894 non-null   object \n",
      " 2   cover_img        6770 non-null   object \n",
      " 3   score            6894 non-null   object \n",
      " 4   ranked           6894 non-null   object \n",
      " 5   popularity       6894 non-null   int64  \n",
      " 6   members          6894 non-null   int64  \n",
      " 7   synopsis         6894 non-null   object \n",
      " 8   synonyms         6894 non-null   object \n",
      " 9   pics             6894 non-null   object \n",
      " 10  characters       6894 non-null   object \n",
      " 11  type_of          6894 non-null   object \n",
      " 12  total_episodes   6894 non-null   object \n",
      " 13  premiered        6894 non-null   object \n",
      " 14  studios          6894 non-null   object \n",
      " 15  genres           6894 non-null   object \n",
      " 16  demographic      1947 non-null   object \n",
      " 17  duration_per_ep  6894 non-null   object \n",
      " 18  rating           6894 non-null   object \n",
      " 19  scored_by        4151 non-null   float64\n",
      " 20  favorites        6894 non-null   int64  \n",
      " 21  aired            6894 non-null   object \n",
      " 22  source           6894 non-null   object \n",
      " 23  themes           6894 non-null   object \n",
      " 24  watching         6894 non-null   int64  \n",
      " 25  completed        6894 non-null   int64  \n",
      " 26  on_hold          6894 non-null   int64  \n",
      " 27  dropped          6894 non-null   int64  \n",
      " 28  plan_to_watch    6894 non-null   int64  \n",
      " 29  total            6894 non-null   int64  \n",
      " 30  scored_10_by     6894 non-null   int64  \n",
      " 31  scored_9_by      6894 non-null   int64  \n",
      " 32  scored_8_by      6894 non-null   int64  \n",
      " 33  scored_7_by      6894 non-null   int64  \n",
      " 34  scored_6_by      6894 non-null   int64  \n",
      " 35  scored_5_by      6894 non-null   int64  \n",
      " 36  scored_4_by      6894 non-null   int64  \n",
      " 37  scored_3_by      6894 non-null   int64  \n",
      " 38  scored_2_by      6894 non-null   int64  \n",
      " 39  scored_1_by      6894 non-null   int64  \n",
      "dtypes: float64(1), int64(19), object(20)\n",
      "memory usage: 2.1+ MB\n"
     ]
    }
   ],
   "source": [
    "df.info()"
   ]
  },
  {
   "cell_type": "code",
   "execution_count": 4,
   "metadata": {},
   "outputs": [
    {
     "name": "stdout",
     "output_type": "stream",
     "text": [
      "Index(['name_english', 'name', 'cover_img', 'score', 'ranked', 'popularity',\n",
      "       'members', 'synopsis', 'synonyms', 'pics', 'characters', 'type_of',\n",
      "       'total_episodes', 'premiered', 'studios', 'genres', 'demographic',\n",
      "       'duration_per_ep', 'rating', 'scored_by', 'favorites', 'aired',\n",
      "       'source', 'themes', 'watching', 'completed', 'on_hold', 'dropped',\n",
      "       'plan_to_watch', 'total', 'scored_10_by', 'scored_9_by', 'scored_8_by',\n",
      "       'scored_7_by', 'scored_6_by', 'scored_5_by', 'scored_4_by',\n",
      "       'scored_3_by', 'scored_2_by', 'scored_1_by'],\n",
      "      dtype='object')\n"
     ]
    }
   ],
   "source": [
    "print(df.columns)"
   ]
  },
  {
   "cell_type": "code",
   "execution_count": 5,
   "metadata": {},
   "outputs": [],
   "source": [
    "df.dropna(subset=['cover_img'], inplace=True)"
   ]
  },
  {
   "cell_type": "code",
   "execution_count": 6,
   "metadata": {},
   "outputs": [
    {
     "name": "stdout",
     "output_type": "stream",
     "text": [
      "<class 'pandas.core.frame.DataFrame'>\n",
      "Index: 6770 entries, 0 to 6893\n",
      "Data columns (total 40 columns):\n",
      " #   Column           Non-Null Count  Dtype  \n",
      "---  ------           --------------  -----  \n",
      " 0   name_english     6770 non-null   object \n",
      " 1   name             6770 non-null   object \n",
      " 2   cover_img        6770 non-null   object \n",
      " 3   score            6770 non-null   object \n",
      " 4   ranked           6770 non-null   object \n",
      " 5   popularity       6770 non-null   int64  \n",
      " 6   members          6770 non-null   int64  \n",
      " 7   synopsis         6770 non-null   object \n",
      " 8   synonyms         6770 non-null   object \n",
      " 9   pics             6770 non-null   object \n",
      " 10  characters       6770 non-null   object \n",
      " 11  type_of          6770 non-null   object \n",
      " 12  total_episodes   6770 non-null   object \n",
      " 13  premiered        6770 non-null   object \n",
      " 14  studios          6770 non-null   object \n",
      " 15  genres           6770 non-null   object \n",
      " 16  demographic      1849 non-null   object \n",
      " 17  duration_per_ep  6770 non-null   object \n",
      " 18  rating           6770 non-null   object \n",
      " 19  scored_by        4148 non-null   float64\n",
      " 20  favorites        6770 non-null   int64  \n",
      " 21  aired            6770 non-null   object \n",
      " 22  source           6770 non-null   object \n",
      " 23  themes           6770 non-null   object \n",
      " 24  watching         6770 non-null   int64  \n",
      " 25  completed        6770 non-null   int64  \n",
      " 26  on_hold          6770 non-null   int64  \n",
      " 27  dropped          6770 non-null   int64  \n",
      " 28  plan_to_watch    6770 non-null   int64  \n",
      " 29  total            6770 non-null   int64  \n",
      " 30  scored_10_by     6770 non-null   int64  \n",
      " 31  scored_9_by      6770 non-null   int64  \n",
      " 32  scored_8_by      6770 non-null   int64  \n",
      " 33  scored_7_by      6770 non-null   int64  \n",
      " 34  scored_6_by      6770 non-null   int64  \n",
      " 35  scored_5_by      6770 non-null   int64  \n",
      " 36  scored_4_by      6770 non-null   int64  \n",
      " 37  scored_3_by      6770 non-null   int64  \n",
      " 38  scored_2_by      6770 non-null   int64  \n",
      " 39  scored_1_by      6770 non-null   int64  \n",
      "dtypes: float64(1), int64(19), object(20)\n",
      "memory usage: 2.1+ MB\n"
     ]
    }
   ],
   "source": [
    "df.info()"
   ]
  },
  {
   "cell_type": "code",
   "execution_count": 8,
   "metadata": {},
   "outputs": [],
   "source": [
    "df.to_json('new.json')"
   ]
  },
  {
   "cell_type": "code",
   "execution_count": 9,
   "metadata": {},
   "outputs": [],
   "source": [
    "df.to_json('data.json', orient='records', indent=4)"
   ]
  },
  {
   "cell_type": "code",
   "execution_count": null,
   "metadata": {},
   "outputs": [],
   "source": []
  }
 ],
 "metadata": {
  "kernelspec": {
   "display_name": "Python 3",
   "language": "python",
   "name": "python3"
  },
  "language_info": {
   "codemirror_mode": {
    "name": "ipython",
    "version": 3
   },
   "file_extension": ".py",
   "mimetype": "text/x-python",
   "name": "python",
   "nbconvert_exporter": "python",
   "pygments_lexer": "ipython3",
   "version": "3.12.5"
  }
 },
 "nbformat": 4,
 "nbformat_minor": 2
}
