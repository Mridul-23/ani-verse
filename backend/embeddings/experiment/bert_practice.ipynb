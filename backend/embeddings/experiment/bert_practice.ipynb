{
 "cells": [
  {
   "cell_type": "code",
   "execution_count": 1,
   "metadata": {
    "id": "V_0BRu0MVNbG"
   },
   "outputs": [
    {
     "name": "stderr",
     "output_type": "stream",
     "text": [
      "c:\\Users\\22213\\AppData\\Local\\Programs\\Python\\Python312\\Lib\\site-packages\\tqdm\\auto.py:21: TqdmWarning: IProgress not found. Please update jupyter and ipywidgets. See https://ipywidgets.readthedocs.io/en/stable/user_install.html\n",
      "  from .autonotebook import tqdm as notebook_tqdm\n"
     ]
    },
    {
     "name": "stdout",
     "output_type": "stream",
     "text": [
      "WARNING:tensorflow:From c:\\Users\\22213\\AppData\\Local\\Programs\\Python\\Python312\\Lib\\site-packages\\tf_keras\\src\\losses.py:2976: The name tf.losses.sparse_softmax_cross_entropy is deprecated. Please use tf.compat.v1.losses.sparse_softmax_cross_entropy instead.\n",
      "\n"
     ]
    }
   ],
   "source": [
    "import ast\n",
    "import numpy as np\n",
    "import pandas as pd\n",
    "import tensorflow as tf\n",
    "from transformers import BertTokenizer, TFBertModel"
   ]
  },
  {
   "cell_type": "code",
   "execution_count": 108,
   "metadata": {
    "id": "pA38TFb5VNWm"
   },
   "outputs": [],
   "source": [
    "df = pd.read_csv(r\"../data/test_data_pre_processed.csv\")"
   ]
  },
  {
   "cell_type": "code",
   "execution_count": 109,
   "metadata": {
    "colab": {
     "base_uri": "https://localhost:8080/"
    },
    "id": "7j0ZD1OLVNUG",
    "outputId": "f7b42295-ddb6-4ebe-9078-8eb3385070ff"
   },
   "outputs": [
    {
     "name": "stdout",
     "output_type": "stream",
     "text": [
      "<class 'pandas.core.frame.DataFrame'>\n",
      "RangeIndex: 14740 entries, 0 to 14739\n",
      "Data columns (total 37 columns):\n",
      " #   Column           Non-Null Count  Dtype  \n",
      "---  ------           --------------  -----  \n",
      " 0   unique_id        14740 non-null  object \n",
      " 1   name_english     14739 non-null  object \n",
      " 2   name             14740 non-null  object \n",
      " 3   score            14740 non-null  float64\n",
      " 4   ranked           14740 non-null  int64  \n",
      " 5   popularity       14740 non-null  int64  \n",
      " 6   members          14740 non-null  int64  \n",
      " 7   synopsis         14740 non-null  object \n",
      " 8   synonyms         14740 non-null  object \n",
      " 9   type_of          14740 non-null  object \n",
      " 10  total_episodes   14740 non-null  int64  \n",
      " 11  premiered        5104 non-null   object \n",
      " 12  studios          11167 non-null  object \n",
      " 13  genres           14740 non-null  object \n",
      " 14  demographic      5115 non-null   object \n",
      " 15  duration_per_ep  14740 non-null  object \n",
      " 16  rating           14532 non-null  object \n",
      " 17  scored_by        14740 non-null  float64\n",
      " 18  favorites        14740 non-null  int64  \n",
      " 19  aired            14740 non-null  object \n",
      " 20  source           14740 non-null  object \n",
      " 21  watching         14740 non-null  int64  \n",
      " 22  completed        14740 non-null  int64  \n",
      " 23  on_hold          14740 non-null  int64  \n",
      " 24  dropped          14740 non-null  int64  \n",
      " 25  plan_to_watch    14740 non-null  int64  \n",
      " 26  total            14740 non-null  int64  \n",
      " 27  scored_10_by     14740 non-null  float64\n",
      " 28  scored_9_by      14740 non-null  float64\n",
      " 29  scored_8_by      14740 non-null  float64\n",
      " 30  scored_7_by      14740 non-null  float64\n",
      " 31  scored_6_by      14740 non-null  float64\n",
      " 32  scored_5_by      14740 non-null  float64\n",
      " 33  scored_4_by      14740 non-null  float64\n",
      " 34  scored_3_by      14740 non-null  float64\n",
      " 35  scored_2_by      14740 non-null  float64\n",
      " 36  scored_1_by      14740 non-null  float64\n",
      "dtypes: float64(12), int64(11), object(14)\n",
      "memory usage: 4.2+ MB\n"
     ]
    }
   ],
   "source": [
    "df.info()"
   ]
  },
  {
   "cell_type": "code",
   "execution_count": 110,
   "metadata": {
    "colab": {
     "base_uri": "https://localhost:8080/"
    },
    "id": "w22hYHorVvJR",
    "outputId": "6105c087-62ef-4c19-982f-046ef1cf9da5"
   },
   "outputs": [
    {
     "name": "stdout",
     "output_type": "stream",
     "text": [
      "['Drama', 'Sports', 'Adventure', 'Historical']\n",
      "<class 'list'>\n"
     ]
    }
   ],
   "source": [
    "print(df['genres'][0])\n",
    "print(type(ast.literal_eval(df['genres'][0])))"
   ]
  },
  {
   "cell_type": "code",
   "execution_count": 111,
   "metadata": {
    "colab": {
     "base_uri": "https://localhost:8080/"
    },
    "id": "zY1WcGNCXoLL",
    "outputId": "1b0df050-fd0c-41b9-c7ad-f280ba2c79df"
   },
   "outputs": [
    {
     "data": {
      "text/plain": [
       "9625"
      ]
     },
     "execution_count": 111,
     "metadata": {},
     "output_type": "execute_result"
    }
   ],
   "source": [
    "df['demographic'].isna().sum()"
   ]
  },
  {
   "cell_type": "code",
   "execution_count": 112,
   "metadata": {
    "colab": {
     "base_uri": "https://localhost:8080/"
    },
    "id": "QRr5rzehXrzV",
    "outputId": "8007c846-eb51-41b1-f693-8a1e998c94f6"
   },
   "outputs": [
    {
     "name": "stderr",
     "output_type": "stream",
     "text": [
      "C:\\Users\\22213\\AppData\\Local\\Temp\\ipykernel_12452\\1410125105.py:1: FutureWarning: A value is trying to be set on a copy of a DataFrame or Series through chained assignment using an inplace method.\n",
      "The behavior will change in pandas 3.0. This inplace method will never work because the intermediate object on which we are setting values always behaves as a copy.\n",
      "\n",
      "For example, when doing 'df[col].method(value, inplace=True)', try using 'df.method({col: value}, inplace=True)' or df[col] = df[col].method(value) instead, to perform the operation inplace on the original object.\n",
      "\n",
      "\n",
      "  df['demographic'].fillna('', inplace=True)\n"
     ]
    }
   ],
   "source": [
    "df['demographic'].fillna('', inplace=True)"
   ]
  },
  {
   "cell_type": "code",
   "execution_count": 113,
   "metadata": {
    "id": "xovL8RVVVbax"
   },
   "outputs": [],
   "source": [
    "df['input_string'] = df['synopsis'] + df['genres'].apply(lambda x : \" \".join(ast.literal_eval(x))) + df['demographic'] + '.'"
   ]
  },
  {
   "cell_type": "code",
   "execution_count": 114,
   "metadata": {
    "colab": {
     "base_uri": "https://localhost:8080/",
     "height": 122
    },
    "id": "UrRiAGecVNSx",
    "outputId": "63857656-4cd1-413e-83d4-810fe015cf24"
   },
   "outputs": [
    {
     "data": {
      "text/plain": [
       "'Yabuki Joe is left downhearted and hopeless after a certain tragic event. In attempt to put the past behind him, Joe leaves the gym behind and begins wandering. On his travels he comes across the likes of Wolf Kanagushi and Goromaki Gondo, men who unintentionally fan the dying embers inside him, leading him to putting his wanderings to an end. His return home puts Joe back on the path to boxing, but unknown to himself and his trainer, he now suffers deep-set issues holding him back from fighting. In attempt to quell those issues, Carlos Rivera, a world renowned boxer is invited from Venezuela to help Joe recover.Drama Sports Adventure HistoricalShounen.'"
      ]
     },
     "execution_count": 114,
     "metadata": {},
     "output_type": "execute_result"
    }
   ],
   "source": [
    "df['input_string'][0]"
   ]
  },
  {
   "cell_type": "code",
   "execution_count": 115,
   "metadata": {
    "id": "v7PYC9zvVNMw"
   },
   "outputs": [],
   "source": [
    "df.drop(columns=[col for col in df.columns if col not in ['input_string', 'unique_id']], inplace=True)"
   ]
  },
  {
   "cell_type": "code",
   "execution_count": 116,
   "metadata": {
    "colab": {
     "base_uri": "https://localhost:8080/"
    },
    "id": "AZ0jsKOsVNK9",
    "outputId": "a1b400f2-e51d-4121-8368-9dafb6c60d4e"
   },
   "outputs": [
    {
     "name": "stdout",
     "output_type": "stream",
     "text": [
      "<class 'pandas.core.frame.DataFrame'>\n",
      "RangeIndex: 14740 entries, 0 to 14739\n",
      "Data columns (total 2 columns):\n",
      " #   Column        Non-Null Count  Dtype \n",
      "---  ------        --------------  ----- \n",
      " 0   unique_id     14740 non-null  object\n",
      " 1   input_string  14740 non-null  object\n",
      "dtypes: object(2)\n",
      "memory usage: 230.4+ KB\n"
     ]
    }
   ],
   "source": [
    "df.info()"
   ]
  },
  {
   "cell_type": "code",
   "execution_count": 161,
   "metadata": {},
   "outputs": [],
   "source": [
    "df = df[:10]"
   ]
  },
  {
   "cell_type": "code",
   "execution_count": 162,
   "metadata": {},
   "outputs": [
    {
     "name": "stdout",
     "output_type": "stream",
     "text": [
      "<class 'pandas.core.frame.DataFrame'>\n",
      "RangeIndex: 10 entries, 0 to 9\n",
      "Data columns (total 3 columns):\n",
      " #   Column        Non-Null Count  Dtype \n",
      "---  ------        --------------  ----- \n",
      " 0   unique_id     10 non-null     object\n",
      " 1   input_string  10 non-null     object\n",
      " 2   embedding     10 non-null     object\n",
      "dtypes: object(3)\n",
      "memory usage: 372.0+ bytes\n"
     ]
    }
   ],
   "source": [
    "df.info()"
   ]
  },
  {
   "cell_type": "code",
   "execution_count": 122,
   "metadata": {
    "colab": {
     "base_uri": "https://localhost:8080/",
     "height": 156,
     "referenced_widgets": [
      "bb4b1a54dd504b34979677787a41d1db",
      "84c38027453746b6b2f5199bfd527881",
      "988d87899cdd400ab60359e88b910c1e",
      "dd4b15c94425488bacfeae0c0d0476ba",
      "ab087a74adbe43fd9f9f4b5c04298007",
      "e908c074eea84d8cb983eeee3b0fb045",
      "85a145865c00491884e8e0b5cce24231",
      "27c022d66567476783777639db3ba22b",
      "026aa0595fbc49ae86d30563920c1c2d",
      "1552952b54a144d58b05aeb7e267809c",
      "33a5853d7ce645c2aa8ae6406ac58077"
     ]
    },
    "id": "YPnAdSagVNHg",
    "outputId": "4af96fe3-aaed-4f34-9086-63e119cd0013"
   },
   "outputs": [
    {
     "name": "stderr",
     "output_type": "stream",
     "text": [
      "Some weights of the PyTorch model were not used when initializing the TF 2.0 model TFBertModel: ['cls.predictions.transform.LayerNorm.weight', 'cls.seq_relationship.bias', 'cls.seq_relationship.weight', 'cls.predictions.transform.LayerNorm.bias', 'cls.predictions.transform.dense.weight', 'cls.predictions.bias', 'cls.predictions.transform.dense.bias']\n",
      "- This IS expected if you are initializing TFBertModel from a PyTorch model trained on another task or with another architecture (e.g. initializing a TFBertForSequenceClassification model from a BertForPreTraining model).\n",
      "- This IS NOT expected if you are initializing TFBertModel from a PyTorch model that you expect to be exactly identical (e.g. initializing a TFBertForSequenceClassification model from a BertForSequenceClassification model).\n",
      "All the weights of TFBertModel were initialized from the PyTorch model.\n",
      "If your task is similar to the task the model of the checkpoint was trained on, you can already use TFBertModel for predictions without further training.\n"
     ]
    }
   ],
   "source": [
    "tokenizer = BertTokenizer.from_pretrained('bert-base-uncased')\n",
    "model = TFBertModel.from_pretrained('bert-base-uncased')"
   ]
  },
  {
   "cell_type": "code",
   "execution_count": 163,
   "metadata": {},
   "outputs": [],
   "source": [
    "def count_generator():\n",
    "  count = 1\n",
    "  while True:\n",
    "    yield count\n",
    "    count += 1\n",
    "\n",
    "gen = count_generator()"
   ]
  },
  {
   "cell_type": "code",
   "execution_count": 48,
   "metadata": {
    "id": "3gg8bNHvZq3W"
   },
   "outputs": [],
   "source": [
    "def get_cls_embedding(input_string):\n",
    "    # tokenize the input_string\n",
    "    string_tokens = tokenizer(input_string, return_tensors='tf', padding=True, truncation=True)\n",
    "    # print('stage 1 done')\n",
    "\n",
    "    # getting the bert embedding (output) using the model\n",
    "    output = model(string_tokens)\n",
    "    # print('stage 2 done')\n",
    "\n",
    "    # extracting the cls embeddings\n",
    "    cls_embedding = output.last_hidden_state[:, 0, :]\n",
    "    # print('stage 3 done')\n",
    "\n",
    "    # converting the cls embedding to the numpy array\n",
    "    cls_embedding = cls_embedding.numpy().squeeze()  # shape: [758]\n",
    "    # print('stage 4 done')\n",
    "\n",
    "    print(f'Completed : {next(gen)}')\n",
    "\n",
    "    return cls_embedding"
   ]
  },
  {
   "cell_type": "code",
   "execution_count": 79,
   "metadata": {},
   "outputs": [
    {
     "data": {
      "text/plain": [
       "list"
      ]
     },
     "execution_count": 79,
     "metadata": {},
     "output_type": "execute_result"
    }
   ],
   "source": [
    "type(df['input_string'][:5].to_list())"
   ]
  },
  {
   "cell_type": "code",
   "execution_count": 164,
   "metadata": {},
   "outputs": [
    {
     "name": "stderr",
     "output_type": "stream",
     "text": [
      "c:\\Users\\22213\\AppData\\Local\\Programs\\Python\\Python312\\Lib\\site-packages\\numpy\\core\\fromnumeric.py:59: FutureWarning: 'Series.swapaxes' is deprecated and will be removed in a future version. Please use 'Series.transpose' instead.\n",
      "  return bound(*args, **kwds)\n"
     ]
    }
   ],
   "source": [
    "batches = np.array_split(df['input_string'], len(df) // 4 + (len(df) % 4 > 0))"
   ]
  },
  {
   "cell_type": "code",
   "execution_count": 165,
   "metadata": {},
   "outputs": [
    {
     "data": {
      "text/plain": [
       "3"
      ]
     },
     "execution_count": 165,
     "metadata": {},
     "output_type": "execute_result"
    }
   ],
   "source": [
    "len(batches)"
   ]
  },
  {
   "cell_type": "code",
   "execution_count": 166,
   "metadata": {},
   "outputs": [
    {
     "name": "stdout",
     "output_type": "stream",
     "text": [
      "Completed : 1\n",
      "Completed : 2\n",
      "Completed : 3\n"
     ]
    },
    {
     "data": {
      "text/plain": [
       "3"
      ]
     },
     "execution_count": 166,
     "metadata": {},
     "output_type": "execute_result"
    }
   ],
   "source": [
    "result_vectors = []\n",
    "for batch in batches:\n",
    "    result_vectors.append(get_cls_embedding(batch.to_list()))\n",
    "    # print(type(batch))\n",
    "len(result_vectors)"
   ]
  },
  {
   "cell_type": "code",
   "execution_count": 167,
   "metadata": {},
   "outputs": [],
   "source": [
    "df['embedding'] = [vector for sublist in result_vectors for vector in sublist]"
   ]
  },
  {
   "cell_type": "code",
   "execution_count": 168,
   "metadata": {},
   "outputs": [
    {
     "data": {
      "text/html": [
       "<div>\n",
       "<style scoped>\n",
       "    .dataframe tbody tr th:only-of-type {\n",
       "        vertical-align: middle;\n",
       "    }\n",
       "\n",
       "    .dataframe tbody tr th {\n",
       "        vertical-align: top;\n",
       "    }\n",
       "\n",
       "    .dataframe thead th {\n",
       "        text-align: right;\n",
       "    }\n",
       "</style>\n",
       "<table border=\"1\" class=\"dataframe\">\n",
       "  <thead>\n",
       "    <tr style=\"text-align: right;\">\n",
       "      <th></th>\n",
       "      <th>unique_id</th>\n",
       "      <th>input_string</th>\n",
       "      <th>embedding</th>\n",
       "    </tr>\n",
       "  </thead>\n",
       "  <tbody>\n",
       "    <tr>\n",
       "      <th>0</th>\n",
       "      <td>0</td>\n",
       "      <td>Yabuki Joe is left downhearted and hopeless af...</td>\n",
       "      <td>[-0.66963875, -0.39918116, -0.24154967, -0.292...</td>\n",
       "    </tr>\n",
       "    <tr>\n",
       "      <th>1</th>\n",
       "      <td>1</td>\n",
       "      <td>Ghostly, primordial beings known as Mushi cont...</td>\n",
       "      <td>[-0.37551773, -0.7974257, -0.05370664, -0.2910...</td>\n",
       "    </tr>\n",
       "    <tr>\n",
       "      <th>2</th>\n",
       "      <td>2</td>\n",
       "      <td>Following the conclusion of the large-scale co...</td>\n",
       "      <td>[-0.9441483, -0.5453753, -0.13317144, 0.091779...</td>\n",
       "    </tr>\n",
       "    <tr>\n",
       "      <th>3</th>\n",
       "      <td>3</td>\n",
       "      <td>Young Thorfinn grew up listening to the storie...</td>\n",
       "      <td>[-0.17889854, -0.5132897, 0.39346802, -0.08992...</td>\n",
       "    </tr>\n",
       "    <tr>\n",
       "      <th>4</th>\n",
       "      <td>4</td>\n",
       "      <td>Crime is timeless. By the year 2071, humanity ...</td>\n",
       "      <td>[-1.0348964, -0.6715797, -0.02665209, -0.09170...</td>\n",
       "    </tr>\n",
       "    <tr>\n",
       "      <th>5</th>\n",
       "      <td>5</td>\n",
       "      <td>Apparitions, oddities, and gods continue to ma...</td>\n",
       "      <td>[-0.5012937, -0.749107, -0.1443865, -0.5924971...</td>\n",
       "    </tr>\n",
       "    <tr>\n",
       "      <th>6</th>\n",
       "      <td>6</td>\n",
       "      <td>The devastation of the Mugen Train incident st...</td>\n",
       "      <td>[-0.509746, -0.8540245, 0.11625019, -0.5961771...</td>\n",
       "    </tr>\n",
       "    <tr>\n",
       "      <th>7</th>\n",
       "      <td>7</td>\n",
       "      <td>Turning against his former allies and enemies ...</td>\n",
       "      <td>[-0.5516354, -0.9971252, 0.25826928, 0.0259177...</td>\n",
       "    </tr>\n",
       "    <tr>\n",
       "      <th>8</th>\n",
       "      <td>8</td>\n",
       "      <td>In his father's absence, teenager Ippo Makunou...</td>\n",
       "      <td>[-0.5930841, -0.8450493, 0.09242689, -0.507209...</td>\n",
       "    </tr>\n",
       "    <tr>\n",
       "      <th>9</th>\n",
       "      <td>9</td>\n",
       "      <td>Stubborn, spoiled, and naïve, 10-year-old Chih...</td>\n",
       "      <td>[-0.35052866, -0.69366884, -0.41876948, -0.671...</td>\n",
       "    </tr>\n",
       "  </tbody>\n",
       "</table>\n",
       "</div>"
      ],
      "text/plain": [
       "  unique_id                                       input_string  \\\n",
       "0         0  Yabuki Joe is left downhearted and hopeless af...   \n",
       "1         1  Ghostly, primordial beings known as Mushi cont...   \n",
       "2         2  Following the conclusion of the large-scale co...   \n",
       "3         3  Young Thorfinn grew up listening to the storie...   \n",
       "4         4  Crime is timeless. By the year 2071, humanity ...   \n",
       "5         5  Apparitions, oddities, and gods continue to ma...   \n",
       "6         6  The devastation of the Mugen Train incident st...   \n",
       "7         7  Turning against his former allies and enemies ...   \n",
       "8         8  In his father's absence, teenager Ippo Makunou...   \n",
       "9         9  Stubborn, spoiled, and naïve, 10-year-old Chih...   \n",
       "\n",
       "                                           embedding  \n",
       "0  [-0.66963875, -0.39918116, -0.24154967, -0.292...  \n",
       "1  [-0.37551773, -0.7974257, -0.05370664, -0.2910...  \n",
       "2  [-0.9441483, -0.5453753, -0.13317144, 0.091779...  \n",
       "3  [-0.17889854, -0.5132897, 0.39346802, -0.08992...  \n",
       "4  [-1.0348964, -0.6715797, -0.02665209, -0.09170...  \n",
       "5  [-0.5012937, -0.749107, -0.1443865, -0.5924971...  \n",
       "6  [-0.509746, -0.8540245, 0.11625019, -0.5961771...  \n",
       "7  [-0.5516354, -0.9971252, 0.25826928, 0.0259177...  \n",
       "8  [-0.5930841, -0.8450493, 0.09242689, -0.507209...  \n",
       "9  [-0.35052866, -0.69366884, -0.41876948, -0.671...  "
      ]
     },
     "execution_count": 168,
     "metadata": {},
     "output_type": "execute_result"
    }
   ],
   "source": [
    "df"
   ]
  },
  {
   "cell_type": "code",
   "execution_count": 169,
   "metadata": {},
   "outputs": [
    {
     "data": {
      "text/plain": [
       "array([-0.66963875, -0.39918116, -0.24154967, -0.29267675, -0.69194055,\n",
       "        0.11974451,  0.6303591 ,  0.11249674,  0.16581503, -0.74881715],\n",
       "      dtype=float32)"
      ]
     },
     "execution_count": 169,
     "metadata": {},
     "output_type": "execute_result"
    }
   ],
   "source": [
    "df['embedding'][0][:10]"
   ]
  },
  {
   "cell_type": "code",
   "execution_count": 170,
   "metadata": {},
   "outputs": [
    {
     "name": "stdout",
     "output_type": "stream",
     "text": [
      "Completed : 4\n"
     ]
    },
    {
     "data": {
      "text/plain": [
       "array([-0.6696389 , -0.3991817 , -0.24154934, -0.29267657, -0.69194067,\n",
       "        0.11974467,  0.6303591 ,  0.11249638,  0.16581543, -0.74881727],\n",
       "      dtype=float32)"
      ]
     },
     "execution_count": 170,
     "metadata": {},
     "output_type": "execute_result"
    }
   ],
   "source": [
    "get_cls_embedding(df['input_string'][0])[:10]"
   ]
  },
  {
   "cell_type": "code",
   "execution_count": null,
   "metadata": {},
   "outputs": [],
   "source": []
  },
  {
   "cell_type": "code",
   "execution_count": null,
   "metadata": {},
   "outputs": [],
   "source": []
  },
  {
   "cell_type": "code",
   "execution_count": null,
   "metadata": {},
   "outputs": [],
   "source": []
  },
  {
   "cell_type": "code",
   "execution_count": null,
   "metadata": {},
   "outputs": [],
   "source": []
  },
  {
   "cell_type": "code",
   "execution_count": null,
   "metadata": {},
   "outputs": [],
   "source": []
  },
  {
   "cell_type": "code",
   "execution_count": null,
   "metadata": {},
   "outputs": [],
   "source": []
  },
  {
   "cell_type": "code",
   "execution_count": null,
   "metadata": {},
   "outputs": [],
   "source": []
  },
  {
   "cell_type": "code",
   "execution_count": null,
   "metadata": {},
   "outputs": [],
   "source": []
  },
  {
   "cell_type": "code",
   "execution_count": null,
   "metadata": {},
   "outputs": [],
   "source": []
  },
  {
   "cell_type": "code",
   "execution_count": null,
   "metadata": {
    "colab": {
     "base_uri": "https://localhost:8080/"
    },
    "id": "m7xQghvqH3rL",
    "outputId": "9ee0e027-22ee-46f1-cbf3-f1ee314e7737"
   },
   "outputs": [
    {
     "name": "stdout",
     "output_type": "stream",
     "text": [
      "Completed : 1\n",
      "Completed : 2\n",
      "Completed : 3\n",
      "Completed : 4\n",
      "Completed : 5\n",
      "Completed : 6\n",
      "Completed : 7\n",
      "Completed : 8\n",
      "Completed : 9\n",
      "Completed : 10\n"
     ]
    }
   ],
   "source": [
    "df['embedding'] = df['input_string'][:100].apply(get_cls_embedding)"
   ]
  },
  {
   "cell_type": "code",
   "execution_count": 40,
   "metadata": {
    "id": "xPDUM4i6eZ-z"
   },
   "outputs": [],
   "source": [
    "df = df.iloc[:10, :].reset_index(drop=True)"
   ]
  },
  {
   "cell_type": "code",
   "execution_count": 41,
   "metadata": {
    "id": "grnqEUsAeZ80"
   },
   "outputs": [
    {
     "data": {
      "text/html": [
       "<div>\n",
       "<style scoped>\n",
       "    .dataframe tbody tr th:only-of-type {\n",
       "        vertical-align: middle;\n",
       "    }\n",
       "\n",
       "    .dataframe tbody tr th {\n",
       "        vertical-align: top;\n",
       "    }\n",
       "\n",
       "    .dataframe thead th {\n",
       "        text-align: right;\n",
       "    }\n",
       "</style>\n",
       "<table border=\"1\" class=\"dataframe\">\n",
       "  <thead>\n",
       "    <tr style=\"text-align: right;\">\n",
       "      <th></th>\n",
       "      <th>input_string</th>\n",
       "      <th>embedding</th>\n",
       "    </tr>\n",
       "    <tr>\n",
       "      <th>unique_id</th>\n",
       "      <th></th>\n",
       "      <th></th>\n",
       "    </tr>\n",
       "  </thead>\n",
       "  <tbody>\n",
       "    <tr>\n",
       "      <th>0</th>\n",
       "      <td>Yabuki Joe is left downhearted and hopeless af...</td>\n",
       "      <td>[-0.6696389, -0.3991817, -0.24154934, -0.29267...</td>\n",
       "    </tr>\n",
       "    <tr>\n",
       "      <th>1</th>\n",
       "      <td>Ghostly, primordial beings known as Mushi cont...</td>\n",
       "      <td>[-0.37551743, -0.79742545, -0.053706102, -0.29...</td>\n",
       "    </tr>\n",
       "    <tr>\n",
       "      <th>2</th>\n",
       "      <td>Following the conclusion of the large-scale co...</td>\n",
       "      <td>[-0.94414824, -0.5453752, -0.13317072, 0.09177...</td>\n",
       "    </tr>\n",
       "    <tr>\n",
       "      <th>3</th>\n",
       "      <td>Young Thorfinn grew up listening to the storie...</td>\n",
       "      <td>[-0.17889887, -0.5132896, 0.3934681, -0.089926...</td>\n",
       "    </tr>\n",
       "    <tr>\n",
       "      <th>4</th>\n",
       "      <td>Crime is timeless. By the year 2071, humanity ...</td>\n",
       "      <td>[-1.0348969, -0.67157936, -0.02665224, -0.0917...</td>\n",
       "    </tr>\n",
       "    <tr>\n",
       "      <th>5</th>\n",
       "      <td>Apparitions, oddities, and gods continue to ma...</td>\n",
       "      <td>[-0.5012934, -0.74910635, -0.14438769, -0.5924...</td>\n",
       "    </tr>\n",
       "    <tr>\n",
       "      <th>6</th>\n",
       "      <td>The devastation of the Mugen Train incident st...</td>\n",
       "      <td>[-0.50974596, -0.85402393, 0.11625116, -0.5961...</td>\n",
       "    </tr>\n",
       "    <tr>\n",
       "      <th>7</th>\n",
       "      <td>Turning against his former allies and enemies ...</td>\n",
       "      <td>[-0.5516355, -0.99712485, 0.2582684, 0.0259178...</td>\n",
       "    </tr>\n",
       "    <tr>\n",
       "      <th>8</th>\n",
       "      <td>In his father's absence, teenager Ippo Makunou...</td>\n",
       "      <td>[-0.59308404, -0.8450499, 0.092426606, -0.5072...</td>\n",
       "    </tr>\n",
       "    <tr>\n",
       "      <th>9</th>\n",
       "      <td>Stubborn, spoiled, and naïve, 10-year-old Chih...</td>\n",
       "      <td>[-0.35052842, -0.6936687, -0.4187696, -0.67137...</td>\n",
       "    </tr>\n",
       "  </tbody>\n",
       "</table>\n",
       "</div>"
      ],
      "text/plain": [
       "                                                input_string  \\\n",
       "unique_id                                                      \n",
       "0          Yabuki Joe is left downhearted and hopeless af...   \n",
       "1          Ghostly, primordial beings known as Mushi cont...   \n",
       "2          Following the conclusion of the large-scale co...   \n",
       "3          Young Thorfinn grew up listening to the storie...   \n",
       "4          Crime is timeless. By the year 2071, humanity ...   \n",
       "5          Apparitions, oddities, and gods continue to ma...   \n",
       "6          The devastation of the Mugen Train incident st...   \n",
       "7          Turning against his former allies and enemies ...   \n",
       "8          In his father's absence, teenager Ippo Makunou...   \n",
       "9          Stubborn, spoiled, and naïve, 10-year-old Chih...   \n",
       "\n",
       "                                                   embedding  \n",
       "unique_id                                                     \n",
       "0          [-0.6696389, -0.3991817, -0.24154934, -0.29267...  \n",
       "1          [-0.37551743, -0.79742545, -0.053706102, -0.29...  \n",
       "2          [-0.94414824, -0.5453752, -0.13317072, 0.09177...  \n",
       "3          [-0.17889887, -0.5132896, 0.3934681, -0.089926...  \n",
       "4          [-1.0348969, -0.67157936, -0.02665224, -0.0917...  \n",
       "5          [-0.5012934, -0.74910635, -0.14438769, -0.5924...  \n",
       "6          [-0.50974596, -0.85402393, 0.11625116, -0.5961...  \n",
       "7          [-0.5516355, -0.99712485, 0.2582684, 0.0259178...  \n",
       "8          [-0.59308404, -0.8450499, 0.092426606, -0.5072...  \n",
       "9          [-0.35052842, -0.6936687, -0.4187696, -0.67137...  "
      ]
     },
     "execution_count": 41,
     "metadata": {},
     "output_type": "execute_result"
    }
   ],
   "source": [
    "df.set_index('unique_id')"
   ]
  },
  {
   "cell_type": "code",
   "execution_count": 42,
   "metadata": {
    "id": "rDo1ZZSUeZ6Q"
   },
   "outputs": [
    {
     "data": {
      "text/plain": [
       "numpy.ndarray"
      ]
     },
     "execution_count": 42,
     "metadata": {},
     "output_type": "execute_result"
    }
   ],
   "source": [
    "type(df['embedding'][0])"
   ]
  },
  {
   "cell_type": "code",
   "execution_count": 43,
   "metadata": {},
   "outputs": [],
   "source": [
    "import faiss"
   ]
  },
  {
   "cell_type": "code",
   "execution_count": null,
   "metadata": {},
   "outputs": [],
   "source": [
    "vectors = np.stack(df['embedding'].values).astype('float32')"
   ]
  },
  {
   "cell_type": "code",
   "execution_count": 20,
   "metadata": {},
   "outputs": [
    {
     "data": {
      "text/plain": [
       "768"
      ]
     },
     "execution_count": 20,
     "metadata": {},
     "output_type": "execute_result"
    }
   ],
   "source": [
    "# faiss index for l2 distances\n",
    "d = vectors[0].shape\n",
    "d = d[0]\n",
    "d"
   ]
  },
  {
   "cell_type": "code",
   "execution_count": null,
   "metadata": {},
   "outputs": [],
   "source": [
    "index = faiss.IndexFlatL2(d) # L2 distance index"
   ]
  },
  {
   "cell_type": "code",
   "execution_count": 22,
   "metadata": {},
   "outputs": [],
   "source": [
    "index.add(vectors)"
   ]
  },
  {
   "cell_type": "code",
   "execution_count": 23,
   "metadata": {},
   "outputs": [],
   "source": [
    "# storing unique ids and their corresponding faiss indexes\n",
    "id_mapping = df['unique_id'].to_list()  # help us map faiss indices back to unique id"
   ]
  },
  {
   "cell_type": "code",
   "execution_count": 24,
   "metadata": {},
   "outputs": [],
   "source": [
    "query_vector = vectors[0]   # query vector"
   ]
  },
  {
   "cell_type": "code",
   "execution_count": 25,
   "metadata": {},
   "outputs": [],
   "source": [
    "k = 2 # number of nearest neighbours to find"
   ]
  },
  {
   "cell_type": "code",
   "execution_count": 26,
   "metadata": {},
   "outputs": [],
   "source": [
    "query_vector = query_vector.reshape(1, -1)"
   ]
  },
  {
   "cell_type": "code",
   "execution_count": 27,
   "metadata": {},
   "outputs": [],
   "source": [
    "distances, faiss_indices = index.search(query_vector, k)"
   ]
  },
  {
   "cell_type": "code",
   "execution_count": 28,
   "metadata": {},
   "outputs": [],
   "source": [
    "# mapping faiss indexes back to original unique id\n",
    "result_ids = [id_mapping[i] for i in faiss_indices[0]]"
   ]
  },
  {
   "cell_type": "code",
   "execution_count": 29,
   "metadata": {},
   "outputs": [
    {
     "name": "stdout",
     "output_type": "stream",
     "text": [
      "Nearest neighbours unique ids : ['0', '6']\n",
      "Distances : [ 0.      43.18433]\n"
     ]
    }
   ],
   "source": [
    "print(f\"Nearest neighbours unique ids : {result_ids}\")\n",
    "print(f\"Distances : {distances[0]}\")"
   ]
  },
  {
   "cell_type": "code",
   "execution_count": 30,
   "metadata": {},
   "outputs": [
    {
     "data": {
      "text/plain": [
       "array([ 0.     , 43.18433], dtype=float32)"
      ]
     },
     "execution_count": 30,
     "metadata": {},
     "output_type": "execute_result"
    }
   ],
   "source": [
    "distances[int(result_ids[0])]"
   ]
  },
  {
   "cell_type": "code",
   "execution_count": 31,
   "metadata": {},
   "outputs": [
    {
     "data": {
      "text/plain": [
       "tuple"
      ]
     },
     "execution_count": 31,
     "metadata": {},
     "output_type": "execute_result"
    }
   ],
   "source": [
    "type(distances.shape)"
   ]
  },
  {
   "cell_type": "code",
   "execution_count": 32,
   "metadata": {},
   "outputs": [],
   "source": [
    "def get_3_new_recommendations(query_vector, already_recommended):\n",
    "    num_recommendations = 3\n",
    "    recommendations = list()\n",
    "    rec_distances = list()\n",
    "\n",
    "    # Ensure the query vector is in the correct shape\n",
    "    query_vector = query_vector.reshape(1, -1)\n",
    "\n",
    "    # Set a high initial k to ensure enough results even after filtering\n",
    "    k = num_recommendations + len(already_recommended) + 5\n",
    "\n",
    "    # Perform search\n",
    "    distances, faiss_indices = index.search(query_vector, k)\n",
    "\n",
    "    # Filter out already recommended IDs and collect unique recommendations\n",
    "    for idx in faiss_indices[0]:\n",
    "        if idx not in already_recommended and idx not in recommendations:\n",
    "            recommendations.append(idx)\n",
    "            print(idx)\n",
    "            rec_distances.append(distances[0][int(idx)])\n",
    "        if len(recommendations) == num_recommendations:\n",
    "            break\n",
    "\n",
    "    return recommendations, rec_distances"
   ]
  },
  {
   "cell_type": "code",
   "execution_count": 33,
   "metadata": {},
   "outputs": [
    {
     "name": "stdout",
     "output_type": "stream",
     "text": [
      "1\n",
      "8\n",
      "5\n",
      "[1, 8, 5] [43.18433, 109.33197, 63.380882]\n"
     ]
    }
   ],
   "source": [
    "already_recommended = [0, 6]\n",
    "recommendations, distances = get_3_new_recommendations(query_vector, already_recommended)\n",
    "print(recommendations, distances)"
   ]
  },
  {
   "cell_type": "code",
   "execution_count": null,
   "metadata": {},
   "outputs": [],
   "source": []
  }
 ],
 "metadata": {
  "colab": {
   "provenance": []
  },
  "kernelspec": {
   "display_name": "Python 3",
   "name": "python3"
  },
  "language_info": {
   "codemirror_mode": {
    "name": "ipython",
    "version": 3
   },
   "file_extension": ".py",
   "mimetype": "text/x-python",
   "name": "python",
   "nbconvert_exporter": "python",
   "pygments_lexer": "ipython3",
   "version": "3.12.5"
  },
  "widgets": {
   "application/vnd.jupyter.widget-state+json": {
    "026aa0595fbc49ae86d30563920c1c2d": {
     "model_module": "@jupyter-widgets/controls",
     "model_module_version": "1.5.0",
     "model_name": "ProgressStyleModel",
     "state": {
      "_model_module": "@jupyter-widgets/controls",
      "_model_module_version": "1.5.0",
      "_model_name": "ProgressStyleModel",
      "_view_count": null,
      "_view_module": "@jupyter-widgets/base",
      "_view_module_version": "1.2.0",
      "_view_name": "StyleView",
      "bar_color": null,
      "description_width": ""
     }
    },
    "1552952b54a144d58b05aeb7e267809c": {
     "model_module": "@jupyter-widgets/base",
     "model_module_version": "1.2.0",
     "model_name": "LayoutModel",
     "state": {
      "_model_module": "@jupyter-widgets/base",
      "_model_module_version": "1.2.0",
      "_model_name": "LayoutModel",
      "_view_count": null,
      "_view_module": "@jupyter-widgets/base",
      "_view_module_version": "1.2.0",
      "_view_name": "LayoutView",
      "align_content": null,
      "align_items": null,
      "align_self": null,
      "border": null,
      "bottom": null,
      "display": null,
      "flex": null,
      "flex_flow": null,
      "grid_area": null,
      "grid_auto_columns": null,
      "grid_auto_flow": null,
      "grid_auto_rows": null,
      "grid_column": null,
      "grid_gap": null,
      "grid_row": null,
      "grid_template_areas": null,
      "grid_template_columns": null,
      "grid_template_rows": null,
      "height": null,
      "justify_content": null,
      "justify_items": null,
      "left": null,
      "margin": null,
      "max_height": null,
      "max_width": null,
      "min_height": null,
      "min_width": null,
      "object_fit": null,
      "object_position": null,
      "order": null,
      "overflow": null,
      "overflow_x": null,
      "overflow_y": null,
      "padding": null,
      "right": null,
      "top": null,
      "visibility": null,
      "width": null
     }
    },
    "27c022d66567476783777639db3ba22b": {
     "model_module": "@jupyter-widgets/base",
     "model_module_version": "1.2.0",
     "model_name": "LayoutModel",
     "state": {
      "_model_module": "@jupyter-widgets/base",
      "_model_module_version": "1.2.0",
      "_model_name": "LayoutModel",
      "_view_count": null,
      "_view_module": "@jupyter-widgets/base",
      "_view_module_version": "1.2.0",
      "_view_name": "LayoutView",
      "align_content": null,
      "align_items": null,
      "align_self": null,
      "border": null,
      "bottom": null,
      "display": null,
      "flex": null,
      "flex_flow": null,
      "grid_area": null,
      "grid_auto_columns": null,
      "grid_auto_flow": null,
      "grid_auto_rows": null,
      "grid_column": null,
      "grid_gap": null,
      "grid_row": null,
      "grid_template_areas": null,
      "grid_template_columns": null,
      "grid_template_rows": null,
      "height": null,
      "justify_content": null,
      "justify_items": null,
      "left": null,
      "margin": null,
      "max_height": null,
      "max_width": null,
      "min_height": null,
      "min_width": null,
      "object_fit": null,
      "object_position": null,
      "order": null,
      "overflow": null,
      "overflow_x": null,
      "overflow_y": null,
      "padding": null,
      "right": null,
      "top": null,
      "visibility": null,
      "width": null
     }
    },
    "33a5853d7ce645c2aa8ae6406ac58077": {
     "model_module": "@jupyter-widgets/controls",
     "model_module_version": "1.5.0",
     "model_name": "DescriptionStyleModel",
     "state": {
      "_model_module": "@jupyter-widgets/controls",
      "_model_module_version": "1.5.0",
      "_model_name": "DescriptionStyleModel",
      "_view_count": null,
      "_view_module": "@jupyter-widgets/base",
      "_view_module_version": "1.2.0",
      "_view_name": "StyleView",
      "description_width": ""
     }
    },
    "84c38027453746b6b2f5199bfd527881": {
     "model_module": "@jupyter-widgets/controls",
     "model_module_version": "1.5.0",
     "model_name": "HTMLModel",
     "state": {
      "_dom_classes": [],
      "_model_module": "@jupyter-widgets/controls",
      "_model_module_version": "1.5.0",
      "_model_name": "HTMLModel",
      "_view_count": null,
      "_view_module": "@jupyter-widgets/controls",
      "_view_module_version": "1.5.0",
      "_view_name": "HTMLView",
      "description": "",
      "description_tooltip": null,
      "layout": "IPY_MODEL_e908c074eea84d8cb983eeee3b0fb045",
      "placeholder": "​",
      "style": "IPY_MODEL_85a145865c00491884e8e0b5cce24231",
      "value": "model.safetensors: 100%"
     }
    },
    "85a145865c00491884e8e0b5cce24231": {
     "model_module": "@jupyter-widgets/controls",
     "model_module_version": "1.5.0",
     "model_name": "DescriptionStyleModel",
     "state": {
      "_model_module": "@jupyter-widgets/controls",
      "_model_module_version": "1.5.0",
      "_model_name": "DescriptionStyleModel",
      "_view_count": null,
      "_view_module": "@jupyter-widgets/base",
      "_view_module_version": "1.2.0",
      "_view_name": "StyleView",
      "description_width": ""
     }
    },
    "988d87899cdd400ab60359e88b910c1e": {
     "model_module": "@jupyter-widgets/controls",
     "model_module_version": "1.5.0",
     "model_name": "FloatProgressModel",
     "state": {
      "_dom_classes": [],
      "_model_module": "@jupyter-widgets/controls",
      "_model_module_version": "1.5.0",
      "_model_name": "FloatProgressModel",
      "_view_count": null,
      "_view_module": "@jupyter-widgets/controls",
      "_view_module_version": "1.5.0",
      "_view_name": "ProgressView",
      "bar_style": "success",
      "description": "",
      "description_tooltip": null,
      "layout": "IPY_MODEL_27c022d66567476783777639db3ba22b",
      "max": 440449768,
      "min": 0,
      "orientation": "horizontal",
      "style": "IPY_MODEL_026aa0595fbc49ae86d30563920c1c2d",
      "value": 440449768
     }
    },
    "ab087a74adbe43fd9f9f4b5c04298007": {
     "model_module": "@jupyter-widgets/base",
     "model_module_version": "1.2.0",
     "model_name": "LayoutModel",
     "state": {
      "_model_module": "@jupyter-widgets/base",
      "_model_module_version": "1.2.0",
      "_model_name": "LayoutModel",
      "_view_count": null,
      "_view_module": "@jupyter-widgets/base",
      "_view_module_version": "1.2.0",
      "_view_name": "LayoutView",
      "align_content": null,
      "align_items": null,
      "align_self": null,
      "border": null,
      "bottom": null,
      "display": null,
      "flex": null,
      "flex_flow": null,
      "grid_area": null,
      "grid_auto_columns": null,
      "grid_auto_flow": null,
      "grid_auto_rows": null,
      "grid_column": null,
      "grid_gap": null,
      "grid_row": null,
      "grid_template_areas": null,
      "grid_template_columns": null,
      "grid_template_rows": null,
      "height": null,
      "justify_content": null,
      "justify_items": null,
      "left": null,
      "margin": null,
      "max_height": null,
      "max_width": null,
      "min_height": null,
      "min_width": null,
      "object_fit": null,
      "object_position": null,
      "order": null,
      "overflow": null,
      "overflow_x": null,
      "overflow_y": null,
      "padding": null,
      "right": null,
      "top": null,
      "visibility": null,
      "width": null
     }
    },
    "bb4b1a54dd504b34979677787a41d1db": {
     "model_module": "@jupyter-widgets/controls",
     "model_module_version": "1.5.0",
     "model_name": "HBoxModel",
     "state": {
      "_dom_classes": [],
      "_model_module": "@jupyter-widgets/controls",
      "_model_module_version": "1.5.0",
      "_model_name": "HBoxModel",
      "_view_count": null,
      "_view_module": "@jupyter-widgets/controls",
      "_view_module_version": "1.5.0",
      "_view_name": "HBoxView",
      "box_style": "",
      "children": [
       "IPY_MODEL_84c38027453746b6b2f5199bfd527881",
       "IPY_MODEL_988d87899cdd400ab60359e88b910c1e",
       "IPY_MODEL_dd4b15c94425488bacfeae0c0d0476ba"
      ],
      "layout": "IPY_MODEL_ab087a74adbe43fd9f9f4b5c04298007"
     }
    },
    "dd4b15c94425488bacfeae0c0d0476ba": {
     "model_module": "@jupyter-widgets/controls",
     "model_module_version": "1.5.0",
     "model_name": "HTMLModel",
     "state": {
      "_dom_classes": [],
      "_model_module": "@jupyter-widgets/controls",
      "_model_module_version": "1.5.0",
      "_model_name": "HTMLModel",
      "_view_count": null,
      "_view_module": "@jupyter-widgets/controls",
      "_view_module_version": "1.5.0",
      "_view_name": "HTMLView",
      "description": "",
      "description_tooltip": null,
      "layout": "IPY_MODEL_1552952b54a144d58b05aeb7e267809c",
      "placeholder": "​",
      "style": "IPY_MODEL_33a5853d7ce645c2aa8ae6406ac58077",
      "value": " 440M/440M [00:06&lt;00:00, 89.0MB/s]"
     }
    },
    "e908c074eea84d8cb983eeee3b0fb045": {
     "model_module": "@jupyter-widgets/base",
     "model_module_version": "1.2.0",
     "model_name": "LayoutModel",
     "state": {
      "_model_module": "@jupyter-widgets/base",
      "_model_module_version": "1.2.0",
      "_model_name": "LayoutModel",
      "_view_count": null,
      "_view_module": "@jupyter-widgets/base",
      "_view_module_version": "1.2.0",
      "_view_name": "LayoutView",
      "align_content": null,
      "align_items": null,
      "align_self": null,
      "border": null,
      "bottom": null,
      "display": null,
      "flex": null,
      "flex_flow": null,
      "grid_area": null,
      "grid_auto_columns": null,
      "grid_auto_flow": null,
      "grid_auto_rows": null,
      "grid_column": null,
      "grid_gap": null,
      "grid_row": null,
      "grid_template_areas": null,
      "grid_template_columns": null,
      "grid_template_rows": null,
      "height": null,
      "justify_content": null,
      "justify_items": null,
      "left": null,
      "margin": null,
      "max_height": null,
      "max_width": null,
      "min_height": null,
      "min_width": null,
      "object_fit": null,
      "object_position": null,
      "order": null,
      "overflow": null,
      "overflow_x": null,
      "overflow_y": null,
      "padding": null,
      "right": null,
      "top": null,
      "visibility": null,
      "width": null
     }
    }
   }
  }
 },
 "nbformat": 4,
 "nbformat_minor": 0
}
