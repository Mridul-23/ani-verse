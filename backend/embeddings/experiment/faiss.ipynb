{
 "cells": [
  {
   "cell_type": "code",
   "execution_count": 1,
   "metadata": {},
   "outputs": [],
   "source": [
    "import ast\n",
    "import faiss\n",
    "import numpy as np\n",
    "import pandas as pd"
   ]
  },
  {
   "cell_type": "code",
   "execution_count": 2,
   "metadata": {},
   "outputs": [],
   "source": [
    "df = pd.read_json('../data/embeddings_data.json')"
   ]
  },
  {
   "cell_type": "code",
   "execution_count": 3,
   "metadata": {},
   "outputs": [
    {
     "name": "stdout",
     "output_type": "stream",
     "text": [
      "<class 'pandas.core.frame.DataFrame'>\n",
      "Index: 14740 entries, 0 to 14739\n",
      "Data columns (total 3 columns):\n",
      " #   Column        Non-Null Count  Dtype \n",
      "---  ------        --------------  ----- \n",
      " 0   unique_id     14740 non-null  object\n",
      " 1   input_string  14740 non-null  object\n",
      " 2   embedding     14740 non-null  object\n",
      "dtypes: object(3)\n",
      "memory usage: 460.6+ KB\n"
     ]
    }
   ],
   "source": [
    "df.info()"
   ]
  },
  {
   "cell_type": "code",
   "execution_count": 4,
   "metadata": {},
   "outputs": [],
   "source": [
    "vectors = np.stack(df['embedding'].values).astype('float32')"
   ]
  },
  {
   "cell_type": "code",
   "execution_count": 5,
   "metadata": {},
   "outputs": [
    {
     "data": {
      "text/plain": [
       "768"
      ]
     },
     "execution_count": 5,
     "metadata": {},
     "output_type": "execute_result"
    }
   ],
   "source": [
    "# faiss index for l2 distances\n",
    "d = vectors[0].shape\n",
    "d = d[0]\n",
    "d"
   ]
  },
  {
   "cell_type": "code",
   "execution_count": 6,
   "metadata": {},
   "outputs": [],
   "source": [
    "index = faiss.IndexFlatL2(d) # L2 distance index"
   ]
  },
  {
   "cell_type": "code",
   "execution_count": 7,
   "metadata": {},
   "outputs": [],
   "source": [
    "index.add(vectors)"
   ]
  },
  {
   "cell_type": "code",
   "execution_count": 8,
   "metadata": {},
   "outputs": [
    {
     "name": "stdout",
     "output_type": "stream",
     "text": [
      "Number of vectors in the index: 14740\n"
     ]
    }
   ],
   "source": [
    "# Check the number of vectors in the index\n",
    "print(f\"Number of vectors in the index: {index.ntotal}\")"
   ]
  },
  {
   "cell_type": "code",
   "execution_count": 9,
   "metadata": {},
   "outputs": [],
   "source": [
    "# storing unique ids and their corresponding faiss indexes\n",
    "id_mapping = df['unique_id'].to_list()  # help us map faiss indices back to unique id"
   ]
  },
  {
   "cell_type": "code",
   "execution_count": null,
   "metadata": {},
   "outputs": [],
   "source": []
  },
  {
   "cell_type": "code",
   "execution_count": null,
   "metadata": {},
   "outputs": [],
   "source": []
  },
  {
   "cell_type": "code",
   "execution_count": null,
   "metadata": {},
   "outputs": [],
   "source": []
  },
  {
   "cell_type": "code",
   "execution_count": null,
   "metadata": {},
   "outputs": [],
   "source": []
  },
  {
   "cell_type": "code",
   "execution_count": 11,
   "metadata": {},
   "outputs": [],
   "source": [
    "import faiss\n",
    "import numpy as np\n",
    "import pandas as pd"
   ]
  },
  {
   "cell_type": "code",
   "execution_count": 2,
   "metadata": {},
   "outputs": [],
   "source": [
    "index = faiss.read_index('../data/faiss_index.index')"
   ]
  },
  {
   "cell_type": "code",
   "execution_count": 3,
   "metadata": {},
   "outputs": [],
   "source": [
    "anime_dataframe = pd.read_csv('../data/test_data_pre_processed.csv')"
   ]
  },
  {
   "cell_type": "code",
   "execution_count": 7,
   "metadata": {},
   "outputs": [],
   "source": [
    "index_df = pd.read_json('../data/embeddings_data.json')"
   ]
  },
  {
   "cell_type": "code",
   "execution_count": 21,
   "metadata": {},
   "outputs": [],
   "source": [
    "def get_3_new_recommendations(query_vector, already_recommended, index, num_recommendations=5):\n",
    "    \"\"\"\n",
    "    Given a query vector and a list of already recommended items, this function\n",
    "    performs a search in the FAISS index to retrieve a set of new recommendations \n",
    "    while ensuring the already recommended items are excluded.\n",
    "    \n",
    "    Args:\n",
    "        query_vector (numpy.ndarray): The vector representing the query item for which similar items are to be found.\n",
    "                                      Should be a 1D array of shape (d,).\n",
    "        already_recommended (list): A list of indices of items that have already been recommended.\n",
    "        index (faiss.Index): A FAISS index containing the vectors to search against.\n",
    "        num_recommendations (int, optional): The number of new recommendations to return. Defaults to 3.\n",
    "    \n",
    "    Returns:\n",
    "        recommendations (list): A list of indices of the new recommended items.\n",
    "        rec_distances (list): A list of distances to the recommended items.\n",
    "    \"\"\"\n",
    "    \n",
    "    recommendations = list()\n",
    "    rec_distances = list()\n",
    "\n",
    "    # Ensure the query vector is in the correct shape (1, d)\n",
    "    query_vector = query_vector.reshape(1, -1)\n",
    "\n",
    "    # Set a high initial k to ensure enough results even after filtering\n",
    "    k = num_recommendations + len(already_recommended) + 5\n",
    "\n",
    "    # Perform the FAISS search for the k nearest neighbors\n",
    "    distances, faiss_indices = index.search(query_vector, k)\n",
    "\n",
    "    # Filter out already recommended IDs and collect unique recommendations\n",
    "    for idx, dist in zip(faiss_indices[0], distances[0]):\n",
    "        # Ensure the index is not already recommended or in the list of recommendations\n",
    "        if idx not in already_recommended and idx not in recommendations:\n",
    "            recommendations.append(idx)\n",
    "            rec_distances.append(dist)\n",
    "        \n",
    "        # Stop when we've collected the desired number of recommendations\n",
    "        if len(recommendations) == num_recommendations:\n",
    "            break\n",
    "\n",
    "    return recommendations, rec_distances\n"
   ]
  },
  {
   "cell_type": "code",
   "execution_count": 22,
   "metadata": {},
   "outputs": [],
   "source": [
    "def anime(recommendations):\n",
    "    for i, anime_index in enumerate(recommendations):\n",
    "        print(f\"{i}. -> {anime_dataframe.loc[anime_index].name_english}\")"
   ]
  },
  {
   "cell_type": "code",
   "execution_count": 25,
   "metadata": {},
   "outputs": [
    {
     "name": "stdout",
     "output_type": "stream",
     "text": [
      "Recommendations: [617, 403, 29, 1849, 526]\n",
      "Distances: [23.983263, 24.013151, 25.307737, 26.214542, 26.5361]\n",
      "Anime similar to : Kaguya-sama: Love is War - The First Kiss That Never Ends\n",
      "0. -> Tsukigakirei\n",
      "1. -> Honey and Clover II\n",
      "2. -> The Dangers in My Heart Season 2\n",
      "3. -> To LOVE Ru Darkness 2\n",
      "4. -> Nodame Cantabile: Paris-hen\n"
     ]
    }
   ],
   "source": [
    "anime_index = 11\n",
    "already_recommended = [0, 6]\n",
    "already_recommended.append(anime_index)\n",
    "query_vector = np.array(index_df['embedding'].loc[anime_index])\n",
    "\n",
    "recommendations, distances = get_3_new_recommendations(query_vector, already_recommended, index)\n",
    "print(\"Recommendations:\", recommendations)\n",
    "print(\"Distances:\", distances)\n",
    "\n",
    "print(f\"Anime similar to : {anime_dataframe.loc[anime_index].name_english}\")\n",
    "anime(recommendations)"
   ]
  },
  {
   "cell_type": "code",
   "execution_count": null,
   "metadata": {},
   "outputs": [],
   "source": []
  },
  {
   "cell_type": "code",
   "execution_count": null,
   "metadata": {},
   "outputs": [],
   "source": []
  },
  {
   "cell_type": "code",
   "execution_count": 70,
   "metadata": {},
   "outputs": [],
   "source": [
    "faiss.write_index(index, \"../data/faiss_index.index\")"
   ]
  },
  {
   "cell_type": "code",
   "execution_count": null,
   "metadata": {},
   "outputs": [],
   "source": []
  }
 ],
 "metadata": {
  "kernelspec": {
   "display_name": "Python 3",
   "language": "python",
   "name": "python3"
  },
  "language_info": {
   "codemirror_mode": {
    "name": "ipython",
    "version": 3
   },
   "file_extension": ".py",
   "mimetype": "text/x-python",
   "name": "python",
   "nbconvert_exporter": "python",
   "pygments_lexer": "ipython3",
   "version": "3.12.5"
  }
 },
 "nbformat": 4,
 "nbformat_minor": 2
}
